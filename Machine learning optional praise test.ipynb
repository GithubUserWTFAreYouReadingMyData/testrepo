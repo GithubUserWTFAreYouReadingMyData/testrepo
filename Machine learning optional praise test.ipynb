{
 "cells": [
  {
   "cell_type": "markdown",
   "id": "82cf7c2d-3157-4abc-b4ee-43c07e378f4f",
   "metadata": {},
   "source": [
    "ewdfwefd"
   ]
  },
  {
   "cell_type": "code",
   "execution_count": 3,
   "id": "785d590d-7c1f-44ff-a091-4fce312b4e4a",
   "metadata": {},
   "outputs": [],
   "source": [
    "# Surpress warnings:\n",
    "def warn(*args, **kwargs):\n",
    "    pass\n",
    "import warnings\n",
    "warnings.warn = warn"
   ]
  },
  {
   "cell_type": "code",
   "execution_count": 5,
   "id": "0d7dd520-2b52-48fa-8f0a-e1a9179bc793",
   "metadata": {},
   "outputs": [],
   "source": [
    "import pandas as pd\n",
    "from sklearn.linear_model import LogisticRegression\n",
    "from sklearn.linear_model import LinearRegression\n",
    "from sklearn import preprocessing\n",
    "import numpy as np\n",
    "from sklearn.neighbors import KNeighborsClassifier\n",
    "from sklearn.model_selection import train_test_split\n",
    "from sklearn.neighbors import KNeighborsClassifier\n",
    "from sklearn.tree import DecisionTreeClassifier\n",
    "from sklearn import svm\n",
    "from sklearn.metrics import jaccard_score\n",
    "from sklearn.metrics import f1_score\n",
    "from sklearn.metrics import log_loss\n",
    "from sklearn.metrics import confusion_matrix, accuracy_score\n",
    "import sklearn.metrics as metrics"
   ]
  },
  {
   "cell_type": "code",
   "execution_count": null,
   "id": "b003d729-d86c-4971-8e15-2d99d40ffe4e",
   "metadata": {},
   "outputs": [],
   "source": []
  },
  {
   "cell_type": "code",
   "execution_count": null,
   "id": "ba2ef95f-ce35-4622-b82e-fcdaf822acea",
   "metadata": {},
   "outputs": [],
   "source": [
    "\n"
   ]
  },
  {
   "cell_type": "code",
   "execution_count": null,
   "id": "046f5fa4-8e44-48a9-b3b6-5386398ec088",
   "metadata": {},
   "outputs": [],
   "source": []
  },
  {
   "cell_type": "code",
   "execution_count": 29,
   "id": "015774c7-5f6d-4c48-a31c-5f3b41582546",
   "metadata": {},
   "outputs": [],
   "source": [
    "import asyncio\n",
    "import aiohttp\n",
    "import os\n",
    "\n",
    "async def download(url, filename):\n",
    "    async with aiohttp.ClientSession() as session:\n",
    "        async with session.get(url) as response:\n",
    "            if response.status == 200:\n",
    "                with open(filename, \"wb\") as f:\n",
    "                    async for chunk in response.content.iter_any():\n",
    "                        f.write(chunk)\n"
   ]
  },
  {
   "cell_type": "code",
   "execution_count": 37,
   "id": "4082db24-aede-4fe9-9c7f-91b283f217a5",
   "metadata": {},
   "outputs": [],
   "source": [
    "path='https://cf-courses-data.s3.us.cloud-object-storage.appdomain.cloud/IBMDeveloperSkillsNetwork-ML0101EN-SkillUp/labs/ML-FinalAssignment/Weather_Data.csv'"
   ]
  },
  {
   "cell_type": "code",
   "execution_count": 39,
   "id": "ac6bb764-9958-4e9f-8712-f63c6faa4855",
   "metadata": {},
   "outputs": [],
   "source": [
    "await download(path, \"Weather_Data.csv\")\n",
    "filename =\"Weather_Data.csv\""
   ]
  },
  {
   "cell_type": "code",
   "execution_count": 41,
   "id": "1a257059-fdeb-4056-b0cb-70d9cfbd41e3",
   "metadata": {},
   "outputs": [],
   "source": [
    "df = pd.read_csv(\"Weather_Data.csv\")"
   ]
  },
  {
   "cell_type": "code",
   "execution_count": 43,
   "id": "9d49351e-5dbd-492f-843f-a952df1ebe47",
   "metadata": {},
   "outputs": [
    {
     "data": {
      "text/html": [
       "<div>\n",
       "<style scoped>\n",
       "    .dataframe tbody tr th:only-of-type {\n",
       "        vertical-align: middle;\n",
       "    }\n",
       "\n",
       "    .dataframe tbody tr th {\n",
       "        vertical-align: top;\n",
       "    }\n",
       "\n",
       "    .dataframe thead th {\n",
       "        text-align: right;\n",
       "    }\n",
       "</style>\n",
       "<table border=\"1\" class=\"dataframe\">\n",
       "  <thead>\n",
       "    <tr style=\"text-align: right;\">\n",
       "      <th></th>\n",
       "      <th>Date</th>\n",
       "      <th>MinTemp</th>\n",
       "      <th>MaxTemp</th>\n",
       "      <th>Rainfall</th>\n",
       "      <th>Evaporation</th>\n",
       "      <th>Sunshine</th>\n",
       "      <th>WindGustDir</th>\n",
       "      <th>WindGustSpeed</th>\n",
       "      <th>WindDir9am</th>\n",
       "      <th>WindDir3pm</th>\n",
       "      <th>...</th>\n",
       "      <th>Humidity9am</th>\n",
       "      <th>Humidity3pm</th>\n",
       "      <th>Pressure9am</th>\n",
       "      <th>Pressure3pm</th>\n",
       "      <th>Cloud9am</th>\n",
       "      <th>Cloud3pm</th>\n",
       "      <th>Temp9am</th>\n",
       "      <th>Temp3pm</th>\n",
       "      <th>RainToday</th>\n",
       "      <th>RainTomorrow</th>\n",
       "    </tr>\n",
       "  </thead>\n",
       "  <tbody>\n",
       "    <tr>\n",
       "      <th>0</th>\n",
       "      <td>2/1/2008</td>\n",
       "      <td>19.5</td>\n",
       "      <td>22.4</td>\n",
       "      <td>15.6</td>\n",
       "      <td>6.2</td>\n",
       "      <td>0.0</td>\n",
       "      <td>W</td>\n",
       "      <td>41</td>\n",
       "      <td>S</td>\n",
       "      <td>SSW</td>\n",
       "      <td>...</td>\n",
       "      <td>92</td>\n",
       "      <td>84</td>\n",
       "      <td>1017.6</td>\n",
       "      <td>1017.4</td>\n",
       "      <td>8</td>\n",
       "      <td>8</td>\n",
       "      <td>20.7</td>\n",
       "      <td>20.9</td>\n",
       "      <td>Yes</td>\n",
       "      <td>Yes</td>\n",
       "    </tr>\n",
       "    <tr>\n",
       "      <th>1</th>\n",
       "      <td>2/2/2008</td>\n",
       "      <td>19.5</td>\n",
       "      <td>25.6</td>\n",
       "      <td>6.0</td>\n",
       "      <td>3.4</td>\n",
       "      <td>2.7</td>\n",
       "      <td>W</td>\n",
       "      <td>41</td>\n",
       "      <td>W</td>\n",
       "      <td>E</td>\n",
       "      <td>...</td>\n",
       "      <td>83</td>\n",
       "      <td>73</td>\n",
       "      <td>1017.9</td>\n",
       "      <td>1016.4</td>\n",
       "      <td>7</td>\n",
       "      <td>7</td>\n",
       "      <td>22.4</td>\n",
       "      <td>24.8</td>\n",
       "      <td>Yes</td>\n",
       "      <td>Yes</td>\n",
       "    </tr>\n",
       "    <tr>\n",
       "      <th>2</th>\n",
       "      <td>2/3/2008</td>\n",
       "      <td>21.6</td>\n",
       "      <td>24.5</td>\n",
       "      <td>6.6</td>\n",
       "      <td>2.4</td>\n",
       "      <td>0.1</td>\n",
       "      <td>W</td>\n",
       "      <td>41</td>\n",
       "      <td>ESE</td>\n",
       "      <td>ESE</td>\n",
       "      <td>...</td>\n",
       "      <td>88</td>\n",
       "      <td>86</td>\n",
       "      <td>1016.7</td>\n",
       "      <td>1015.6</td>\n",
       "      <td>7</td>\n",
       "      <td>8</td>\n",
       "      <td>23.5</td>\n",
       "      <td>23.0</td>\n",
       "      <td>Yes</td>\n",
       "      <td>Yes</td>\n",
       "    </tr>\n",
       "    <tr>\n",
       "      <th>3</th>\n",
       "      <td>2/4/2008</td>\n",
       "      <td>20.2</td>\n",
       "      <td>22.8</td>\n",
       "      <td>18.8</td>\n",
       "      <td>2.2</td>\n",
       "      <td>0.0</td>\n",
       "      <td>W</td>\n",
       "      <td>41</td>\n",
       "      <td>NNE</td>\n",
       "      <td>E</td>\n",
       "      <td>...</td>\n",
       "      <td>83</td>\n",
       "      <td>90</td>\n",
       "      <td>1014.2</td>\n",
       "      <td>1011.8</td>\n",
       "      <td>8</td>\n",
       "      <td>8</td>\n",
       "      <td>21.4</td>\n",
       "      <td>20.9</td>\n",
       "      <td>Yes</td>\n",
       "      <td>Yes</td>\n",
       "    </tr>\n",
       "    <tr>\n",
       "      <th>4</th>\n",
       "      <td>2/5/2008</td>\n",
       "      <td>19.7</td>\n",
       "      <td>25.7</td>\n",
       "      <td>77.4</td>\n",
       "      <td>4.8</td>\n",
       "      <td>0.0</td>\n",
       "      <td>W</td>\n",
       "      <td>41</td>\n",
       "      <td>NNE</td>\n",
       "      <td>W</td>\n",
       "      <td>...</td>\n",
       "      <td>88</td>\n",
       "      <td>74</td>\n",
       "      <td>1008.3</td>\n",
       "      <td>1004.8</td>\n",
       "      <td>8</td>\n",
       "      <td>8</td>\n",
       "      <td>22.5</td>\n",
       "      <td>25.5</td>\n",
       "      <td>Yes</td>\n",
       "      <td>Yes</td>\n",
       "    </tr>\n",
       "  </tbody>\n",
       "</table>\n",
       "<p>5 rows × 22 columns</p>\n",
       "</div>"
      ],
      "text/plain": [
       "       Date  MinTemp  MaxTemp  Rainfall  Evaporation  Sunshine WindGustDir  \\\n",
       "0  2/1/2008     19.5     22.4      15.6          6.2       0.0           W   \n",
       "1  2/2/2008     19.5     25.6       6.0          3.4       2.7           W   \n",
       "2  2/3/2008     21.6     24.5       6.6          2.4       0.1           W   \n",
       "3  2/4/2008     20.2     22.8      18.8          2.2       0.0           W   \n",
       "4  2/5/2008     19.7     25.7      77.4          4.8       0.0           W   \n",
       "\n",
       "   WindGustSpeed WindDir9am WindDir3pm  ...  Humidity9am  Humidity3pm  \\\n",
       "0             41          S        SSW  ...           92           84   \n",
       "1             41          W          E  ...           83           73   \n",
       "2             41        ESE        ESE  ...           88           86   \n",
       "3             41        NNE          E  ...           83           90   \n",
       "4             41        NNE          W  ...           88           74   \n",
       "\n",
       "   Pressure9am  Pressure3pm  Cloud9am  Cloud3pm  Temp9am  Temp3pm  RainToday  \\\n",
       "0       1017.6       1017.4         8         8     20.7     20.9        Yes   \n",
       "1       1017.9       1016.4         7         7     22.4     24.8        Yes   \n",
       "2       1016.7       1015.6         7         8     23.5     23.0        Yes   \n",
       "3       1014.2       1011.8         8         8     21.4     20.9        Yes   \n",
       "4       1008.3       1004.8         8         8     22.5     25.5        Yes   \n",
       "\n",
       "   RainTomorrow  \n",
       "0           Yes  \n",
       "1           Yes  \n",
       "2           Yes  \n",
       "3           Yes  \n",
       "4           Yes  \n",
       "\n",
       "[5 rows x 22 columns]"
      ]
     },
     "execution_count": 43,
     "metadata": {},
     "output_type": "execute_result"
    }
   ],
   "source": [
    "df.head()"
   ]
  },
  {
   "cell_type": "code",
   "execution_count": 45,
   "id": "d2d50e21-9ff5-44df-a215-12068c043b69",
   "metadata": {},
   "outputs": [],
   "source": [
    "df_sydney_processed = pd.get_dummies(data=df, columns=['RainToday', 'WindGustDir', 'WindDir9am', 'WindDir3pm'])"
   ]
  },
  {
   "cell_type": "code",
   "execution_count": 47,
   "id": "c8c32f69-c111-439f-ad0b-4b2e9d236695",
   "metadata": {},
   "outputs": [],
   "source": [
    "df_sydney_processed.replace(['No', 'Yes'], [0,1], inplace=True)"
   ]
  },
  {
   "cell_type": "code",
   "execution_count": 49,
   "id": "79c7f2c1-7ffa-4e6e-b130-5f0f9feb2c88",
   "metadata": {},
   "outputs": [],
   "source": [
    "df_sydney_processed.drop('Date',axis=1,inplace=True)"
   ]
  },
  {
   "cell_type": "code",
   "execution_count": 51,
   "id": "3076a449-f6e1-416f-9d83-2437b92a4afe",
   "metadata": {},
   "outputs": [],
   "source": [
    "df_sydney_processed = df_sydney_processed.astype(float)"
   ]
  },
  {
   "cell_type": "code",
   "execution_count": 53,
   "id": "102c72c3-6e50-4df1-8252-9d5775e62bcd",
   "metadata": {},
   "outputs": [],
   "source": [
    "features = df_sydney_processed.drop(columns='RainTomorrow', axis=1)\n",
    "Y = df_sydney_processed['RainTomorrow']"
   ]
  },
  {
   "cell_type": "code",
   "execution_count": 56,
   "id": "12b8c44a-834f-4c22-9c41-0746313cc3f1",
   "metadata": {},
   "outputs": [
    {
     "name": "stdout",
     "output_type": "stream",
     "text": [
      "X_train shape: (2616, 66)\n",
      "X_test shape: (655, 66)\n",
      "Y_train shape: (2616,)\n",
      "Y_test shape: (655,)\n"
     ]
    }
   ],
   "source": [
    "from sklearn.model_selection import train_test_split\n",
    "\n",
    "# Split the data into training and testing sets\n",
    "X_train, X_test, Y_train, Y_test = train_test_split(features, Y, test_size=0.2, random_state=10)\n",
    "\n",
    "# Display the shapes of the resulting datasets\n",
    "print(f\"X_train shape: {X_train.shape}\")\n",
    "print(f\"X_test shape: {X_test.shape}\")\n",
    "print(f\"Y_train shape: {Y_train.shape}\")\n",
    "print(f\"Y_test shape: {Y_test.shape}\")\n"
   ]
  },
  {
   "cell_type": "code",
   "execution_count": 58,
   "id": "15f32a47-82c8-4e3d-98d2-3e9e41e9f94a",
   "metadata": {},
   "outputs": [
    {
     "name": "stdout",
     "output_type": "stream",
     "text": [
      "Coefficients: [-2.36933212e-02  1.30007994e-02  7.30206238e-04  6.48991926e-03\n",
      " -3.51699778e-02  4.23739763e-03  1.83047446e-03  7.90999468e-04\n",
      "  9.55896155e-04  8.56089162e-03  7.70813418e-03 -9.25470178e-03\n",
      " -8.86504271e-03  1.00331733e-02  1.44689084e-02 -3.47639901e-03\n",
      "  2.14785220e+10  2.14785220e+10 -5.67846844e+09 -5.67846844e+09\n",
      " -5.67846844e+09 -5.67846844e+09 -5.67846844e+09 -5.67846844e+09\n",
      " -5.67846844e+09 -5.67846844e+09 -5.67846844e+09 -5.67846844e+09\n",
      " -5.67846844e+09 -5.67846844e+09 -5.67846844e+09 -5.67846844e+09\n",
      " -5.67846844e+09 -5.67846844e+09  1.70623652e+10  1.70623652e+10\n",
      "  1.70623652e+10  1.70623652e+10  1.70623652e+10  1.70623652e+10\n",
      "  1.70623652e+10  1.70623652e+10  1.70623652e+10  1.70623652e+10\n",
      "  1.70623652e+10  1.70623652e+10  1.70623652e+10  1.70623652e+10\n",
      "  1.70623652e+10  1.70623652e+10  8.63713855e+09  8.63713855e+09\n",
      "  8.63713855e+09  8.63713855e+09  8.63713855e+09  8.63713855e+09\n",
      "  8.63713855e+09  8.63713855e+09  8.63713855e+09  8.63713855e+09\n",
      "  8.63713855e+09  8.63713855e+09  8.63713855e+09  8.63713855e+09\n",
      "  8.63713855e+09  8.63713855e+09]\n",
      "Intercept: -41499557225.61028\n"
     ]
    }
   ],
   "source": [
    "from sklearn.linear_model import LinearRegression\n",
    "\n",
    "# Create a Linear Regression model\n",
    "LinearReg = LinearRegression()\n",
    "\n",
    "# Train the model using the training data\n",
    "LinearReg.fit(X_train, Y_train)\n",
    "\n",
    "# Display the coefficients of the trained model\n",
    "print(\"Coefficients:\", LinearReg.coef_)\n",
    "print(\"Intercept:\", LinearReg.intercept_)\n"
   ]
  },
  {
   "cell_type": "code",
   "execution_count": 60,
   "id": "5e969253-3bb7-488b-8617-a2a41312453b",
   "metadata": {},
   "outputs": [
    {
     "name": "stdout",
     "output_type": "stream",
     "text": [
      "Predictions: [0.13178253 0.27615356 0.97808838 0.28748322 0.13237762]\n"
     ]
    }
   ],
   "source": [
    "# Use the predict method on the testing data\n",
    "predictions = LinearReg.predict(X_test)\n",
    "\n",
    "# Display the first few predictions\n",
    "print(\"Predictions:\", predictions[:5])\n"
   ]
  },
  {
   "cell_type": "code",
   "execution_count": 62,
   "id": "c9b37990-c46b-477c-bb43-a9761223a021",
   "metadata": {},
   "outputs": [
    {
     "name": "stdout",
     "output_type": "stream",
     "text": [
      "LinearRegression_MAE: 0.25631900234076815\n",
      "LinearRegression_MSE: 0.11572291759564364\n",
      "LinearRegression_R2: 0.4271205492306953\n"
     ]
    }
   ],
   "source": [
    "from sklearn.metrics import mean_absolute_error, mean_squared_error, r2_score\n",
    "\n",
    "# Calculate Mean Absolute Error (MAE)\n",
    "LinearRegression_MAE = mean_absolute_error(Y_test, predictions)\n",
    "\n",
    "# Calculate Mean Squared Error (MSE)\n",
    "LinearRegression_MSE = mean_squared_error(Y_test, predictions)\n",
    "\n",
    "# Calculate R-squared (R2 Score)\n",
    "LinearRegression_R2 = r2_score(Y_test, predictions)\n",
    "\n",
    "# Display the metrics\n",
    "print(\"LinearRegression_MAE:\", LinearRegression_MAE)\n",
    "print(\"LinearRegression_MSE:\", LinearRegression_MSE)\n",
    "print(\"LinearRegression_R2:\", LinearRegression_R2)\n"
   ]
  },
  {
   "cell_type": "code",
   "execution_count": 64,
   "id": "de6d6542-74de-494f-9520-080fdc2a7716",
   "metadata": {},
   "outputs": [
    {
     "name": "stdout",
     "output_type": "stream",
     "text": [
      "                      Metric     Value\n",
      "0  Mean Absolute Error (MAE)  0.256319\n",
      "1   Mean Squared Error (MSE)  0.115723\n",
      "2             R-squared (R²)  0.427121\n"
     ]
    }
   ],
   "source": [
    "import pandas as pd\n",
    "\n",
    "# Create a dictionary with the metrics\n",
    "metrics_dict = {\n",
    "    \"Metric\": [\"Mean Absolute Error (MAE)\", \"Mean Squared Error (MSE)\", \"R-squared (R²)\"],\n",
    "    \"Value\": [LinearRegression_MAE, LinearRegression_MSE, LinearRegression_R2]\n",
    "}\n",
    "\n",
    "# Convert the dictionary to a DataFrame\n",
    "metrics_df = pd.DataFrame(metrics_dict)\n",
    "\n",
    "# Display the DataFrame\n",
    "print(metrics_df)\n"
   ]
  },
  {
   "cell_type": "code",
   "execution_count": 66,
   "id": "d9d15b64-8207-4a8d-b2c4-abd07da7263e",
   "metadata": {},
   "outputs": [
    {
     "name": "stdout",
     "output_type": "stream",
     "text": [
      "KNN model trained with n_neighbors=4: KNeighborsClassifier(n_neighbors=4)\n"
     ]
    }
   ],
   "source": [
    "from sklearn.neighbors import KNeighborsClassifier\n",
    "\n",
    "# Create a KNN model with n_neighbors set to 4\n",
    "KNN = KNeighborsClassifier(n_neighbors=4)\n",
    "\n",
    "# Train the KNN model using the training data\n",
    "KNN.fit(X_train, Y_train)\n",
    "\n",
    "# Display the model to confirm training\n",
    "print(\"KNN model trained with n_neighbors=4:\", KNN)\n"
   ]
  },
  {
   "cell_type": "code",
   "execution_count": 68,
   "id": "2b27f0d1-1cbb-4a97-a835-064ed6a35b3a",
   "metadata": {},
   "outputs": [
    {
     "name": "stdout",
     "output_type": "stream",
     "text": [
      "Predictions: [0. 0. 1. 0. 0.]\n"
     ]
    }
   ],
   "source": [
    "# Use the predict method on the testing data\n",
    "predictions = KNN.predict(X_test)\n",
    "\n",
    "# Display the first few predictions\n",
    "print(\"Predictions:\", predictions[:5])\n"
   ]
  },
  {
   "cell_type": "code",
   "execution_count": 70,
   "id": "384d182b-ccf6-41f5-8f48-fa1c567228c9",
   "metadata": {},
   "outputs": [
    {
     "name": "stdout",
     "output_type": "stream",
     "text": [
      "KNN_Accuracy_Score: 0.8183206106870229\n",
      "KNN_JaccardIndex: 0.4251207729468599\n",
      "KNN_F1_Score: 0.5966101694915255\n"
     ]
    }
   ],
   "source": [
    "from sklearn.metrics import accuracy_score, jaccard_score, f1_score\n",
    "\n",
    "# Calculate Accuracy Score\n",
    "KNN_Accuracy_Score = accuracy_score(Y_test, predictions)\n",
    "\n",
    "# Calculate Jaccard Index (Jaccard Similarity Coefficient)\n",
    "KNN_JaccardIndex = jaccard_score(Y_test, predictions)\n",
    "\n",
    "# Calculate F1 Score\n",
    "KNN_F1_Score = f1_score(Y_test, predictions)\n",
    "\n",
    "# Display the metrics\n",
    "print(\"KNN_Accuracy_Score:\", KNN_Accuracy_Score)\n",
    "print(\"KNN_JaccardIndex:\", KNN_JaccardIndex)\n",
    "print(\"KNN_F1_Score:\", KNN_F1_Score)\n"
   ]
  },
  {
   "cell_type": "code",
   "execution_count": 72,
   "id": "9c1b392c-a96b-46ba-9eaa-609311858194",
   "metadata": {},
   "outputs": [
    {
     "name": "stdout",
     "output_type": "stream",
     "text": [
      "Decision Tree model trained: DecisionTreeClassifier()\n"
     ]
    }
   ],
   "source": [
    "from sklearn.tree import DecisionTreeClassifier\n",
    "\n",
    "# Create a Decision Tree model\n",
    "Tree = DecisionTreeClassifier()\n",
    "\n",
    "# Train the Decision Tree model using the training data\n",
    "Tree.fit(X_train, Y_train)\n",
    "\n",
    "# Display the model to confirm training\n",
    "print(\"Decision Tree model trained:\", Tree)\n"
   ]
  },
  {
   "cell_type": "code",
   "execution_count": 74,
   "id": "52c0f932-1fba-47be-907c-50a50435f606",
   "metadata": {},
   "outputs": [
    {
     "name": "stdout",
     "output_type": "stream",
     "text": [
      "Predictions: [0. 0. 1. 0. 0.]\n"
     ]
    }
   ],
   "source": [
    "# Use the predict method on the testing data\n",
    "predictions = Tree.predict(X_test)\n",
    "\n",
    "# Display the first few predictions\n",
    "print(\"Predictions:\", predictions[:5])\n"
   ]
  },
  {
   "cell_type": "code",
   "execution_count": 76,
   "id": "06c24a41-cf50-42af-bb53-072e554ef8e9",
   "metadata": {},
   "outputs": [
    {
     "name": "stdout",
     "output_type": "stream",
     "text": [
      "Tree_Accuracy_Score: 0.7526717557251908\n",
      "Tree_JaccardIndex: 0.39776951672862454\n",
      "Tree_F1_Score: 0.5691489361702128\n"
     ]
    }
   ],
   "source": [
    "from sklearn.metrics import accuracy_score, jaccard_score, f1_score\n",
    "\n",
    "# Calculate Accuracy Score\n",
    "Tree_Accuracy_Score = accuracy_score(Y_test, predictions)\n",
    "\n",
    "# Calculate Jaccard Index (Jaccard Similarity Coefficient)\n",
    "Tree_JaccardIndex = jaccard_score(Y_test, predictions)\n",
    "\n",
    "# Calculate F1 Score\n",
    "Tree_F1_Score = f1_score(Y_test, predictions)\n",
    "\n",
    "# Display the metrics\n",
    "print(\"Tree_Accuracy_Score:\", Tree_Accuracy_Score)\n",
    "print(\"Tree_JaccardIndex:\", Tree_JaccardIndex)\n",
    "print(\"Tree_F1_Score:\", Tree_F1_Score)"
   ]
  },
  {
   "cell_type": "code",
   "execution_count": 78,
   "id": "c9fad58d-c602-42e3-8fce-fb71fb2d14d0",
   "metadata": {},
   "outputs": [
    {
     "name": "stdout",
     "output_type": "stream",
     "text": [
      "X_train shape: (2616, 66)\n",
      "X_test shape: (655, 66)\n",
      "Y_train shape: (2616,)\n",
      "Y_test shape: (655,)\n"
     ]
    }
   ],
   "source": [
    "from sklearn.model_selection import train_test_split\n",
    "\n",
    "# Split the data into training and testing sets\n",
    "X_train, X_test, Y_train, Y_test = train_test_split(features, Y, test_size=0.2, random_state=1)\n",
    "\n",
    "# Display the shapes of the resulting datasets\n",
    "print(f\"X_train shape: {X_train.shape}\")\n",
    "print(f\"X_test shape: {X_test.shape}\")\n",
    "print(f\"Y_train shape: {Y_train.shape}\")\n",
    "print(f\"Y_test shape: {Y_test.shape}\")"
   ]
  },
  {
   "cell_type": "code",
   "execution_count": 80,
   "id": "500abab9-2bbe-4b76-b2a1-f3f463da90db",
   "metadata": {},
   "outputs": [
    {
     "name": "stdout",
     "output_type": "stream",
     "text": [
      "Logistic Regression model trained: LogisticRegression(solver='liblinear')\n",
      "Model coefficients: [[-1.80550751e-01  3.66942140e-02  1.17817000e-02  8.18916043e-03\n",
      "  -2.27035998e-01  3.58092893e-02  9.82734738e-03  7.70707709e-03\n",
      "   2.60956829e-02  5.13694077e-02  7.63886061e-02 -8.42114680e-02\n",
      "  -1.15761375e-01  1.67242616e-01  1.59649898e-01  1.58419614e-02\n",
      "  -1.39503085e-01  1.83794046e-01  6.32231107e-01 -1.10430465e+00\n",
      "   4.17801173e-01 -4.47782652e-01 -3.24135942e-01 -5.20566763e-01\n",
      "  -1.09744429e-01  6.14114167e-04 -5.14322517e-02  5.88539648e-01\n",
      "   1.71383527e-01 -1.19451537e-02  1.74822995e-01 -1.78220789e-01\n",
      "   5.82399286e-01  2.24631747e-01  2.58188023e-01  1.48662148e-01\n",
      "  -3.00126038e-03 -8.71896043e-02 -8.95183249e-02  1.42799407e-01\n",
      "  -1.47331249e-02  3.31250835e-01 -3.24052325e-01  5.36320698e-03\n",
      "  -6.20637773e-02 -1.79262662e-01  1.62972152e-01 -1.51978002e-02\n",
      "   2.03951239e-02 -2.50321056e-01 -6.46586933e-01 -5.49063855e-01\n",
      "  -1.52580162e-02 -5.52020511e-01 -3.52988482e-01  3.05655448e-01\n",
      "   1.88848520e-01 -2.61947648e-01  6.86307474e-01  2.63408422e-01\n",
      "   6.05695237e-02  7.62671440e-01  4.49239197e-01  1.28584579e-01\n",
      "  -5.53069171e-01  1.29940973e-01]]\n",
      "Model intercept: [0.04429096]\n"
     ]
    }
   ],
   "source": [
    "from sklearn.linear_model import LogisticRegression\n",
    "\n",
    "# Create a LogisticRegression model\n",
    "LR = LogisticRegression(solver='liblinear')\n",
    "\n",
    "# Train the model using the training data\n",
    "LR.fit(X_train, Y_train)\n",
    "\n",
    "# Display the model to confirm training\n",
    "print(\"Logistic Regression model trained:\", LR)\n",
    "\n",
    "# You can also print some model parameters if you want\n",
    "print(\"Model coefficients:\", LR.coef_)\n",
    "print(\"Model intercept:\", LR.intercept_)"
   ]
  },
  {
   "cell_type": "code",
   "execution_count": 82,
   "id": "698126e0-5751-4aff-9634-cc60ce9d2a23",
   "metadata": {},
   "outputs": [
    {
     "name": "stdout",
     "output_type": "stream",
     "text": [
      "Predictions (first 5): [0. 0. 0. 0. 0.]\n",
      "Prediction Probabilities (first 5):\n",
      "[[0.74339483 0.25660517]\n",
      " [0.97495683 0.02504317]\n",
      " [0.50982014 0.49017986]\n",
      " [0.84891209 0.15108791]\n",
      " [0.9684643  0.0315357 ]]\n",
      "\n",
      "Shape of predictions array: (655,)\n",
      "Shape of predict_proba array: (655, 2)\n"
     ]
    }
   ],
   "source": [
    "# Use the predict method on the testing data\n",
    "predictions = LR.predict(X_test)\n",
    "\n",
    "# Use the predict_proba method on the testing data\n",
    "predict_proba = LR.predict_proba(X_test)\n",
    "\n",
    "# Display the first few predictions and their probabilities\n",
    "print(\"Predictions (first 5):\", predictions[:5])\n",
    "print(\"Prediction Probabilities (first 5):\")\n",
    "print(predict_proba[:5])\n",
    "\n",
    "# Optionally, you can also print the shapes of these arrays\n",
    "print(\"\\nShape of predictions array:\", predictions.shape)\n",
    "print(\"Shape of predict_proba array:\", predict_proba.shape)"
   ]
  },
  {
   "cell_type": "code",
   "execution_count": 84,
   "id": "5f7ccec7-e8ce-42d5-8a69-b9023d9bee1e",
   "metadata": {},
   "outputs": [
    {
     "name": "stdout",
     "output_type": "stream",
     "text": [
      "Logistic Regression Metrics:\n",
      "Accuracy Score: 0.8366\n",
      "Jaccard Index: 0.5092\n",
      "F1 Score: 0.6748\n",
      "Log Loss: 0.3811\n"
     ]
    }
   ],
   "source": [
    "from sklearn.metrics import accuracy_score, jaccard_score, f1_score, log_loss\n",
    "\n",
    "# Calculate Accuracy Score\n",
    "LR_Accuracy_Score = accuracy_score(Y_test, predictions)\n",
    "\n",
    "# Calculate Jaccard Index (Jaccard Similarity Coefficient)\n",
    "LR_JaccardIndex = jaccard_score(Y_test, predictions)\n",
    "\n",
    "# Calculate F1 Score\n",
    "LR_F1_Score = f1_score(Y_test, predictions)\n",
    "\n",
    "# Calculate Log Loss\n",
    "LR_LogLoss = log_loss(Y_test, predict_proba)\n",
    "\n",
    "# Display the metrics\n",
    "print(\"Logistic Regression Metrics:\")\n",
    "print(f\"Accuracy Score: {LR_Accuracy_Score:.4f}\")\n",
    "print(f\"Jaccard Index: {LR_JaccardIndex:.4f}\")\n",
    "print(f\"F1 Score: {LR_F1_Score:.4f}\")\n",
    "print(f\"Log Loss: {LR_LogLoss:.4f}\")"
   ]
  },
  {
   "cell_type": "code",
   "execution_count": 86,
   "id": "32c8f38e-be48-4667-afaa-b3230a0ed692",
   "metadata": {},
   "outputs": [
    {
     "name": "stdout",
     "output_type": "stream",
     "text": [
      "SVM model trained: SVC(probability=True)\n",
      "Kernel used: rbf\n",
      "Number of support vectors: [668 667]\n"
     ]
    }
   ],
   "source": [
    "from sklearn import svm\n",
    "\n",
    "# Create an SVM model\n",
    "SVM = svm.SVC(kernel='rbf', probability=True)\n",
    "\n",
    "# Train the model using the training data\n",
    "SVM.fit(X_train, Y_train)\n",
    "\n",
    "# Display the model to confirm training\n",
    "print(\"SVM model trained:\", SVM)\n",
    "\n",
    "# You can also print some model parameters if you want\n",
    "print(\"Kernel used:\", SVM.kernel)\n",
    "print(\"Number of support vectors:\", SVM.n_support_)"
   ]
  },
  {
   "cell_type": "code",
   "execution_count": 88,
   "id": "39a5265b-53b5-46a7-bf40-4acb796f3b39",
   "metadata": {},
   "outputs": [
    {
     "name": "stdout",
     "output_type": "stream",
     "text": [
      "Predictions (first 10): [0. 0. 0. 0. 0. 0. 0. 0. 0. 0.]\n",
      "\n",
      "Shape of predictions array: (655,)\n",
      "\n",
      "Distribution of predictions: Counter({0.0: 655})\n"
     ]
    }
   ],
   "source": [
    "# Use the predict method on the testing data\n",
    "predictions = SVM.predict(X_test)\n",
    "\n",
    "# Display the first few predictions\n",
    "print(\"Predictions (first 10):\", predictions[:10])\n",
    "\n",
    "# Optionally, you can also print the shape of the predictions array\n",
    "print(\"\\nShape of predictions array:\", predictions.shape)\n",
    "\n",
    "# If you want to see the distribution of predictions\n",
    "from collections import Counter\n",
    "print(\"\\nDistribution of predictions:\", Counter(predictions))"
   ]
  },
  {
   "cell_type": "code",
   "execution_count": 90,
   "id": "02175909-29b6-473b-a022-c87e267d3be3",
   "metadata": {},
   "outputs": [
    {
     "name": "stdout",
     "output_type": "stream",
     "text": [
      "SVM Model Metrics:\n",
      "Accuracy Score: 0.7221\n",
      "Jaccard Index: 0.0000\n",
      "F1 Score: 0.0000\n"
     ]
    }
   ],
   "source": [
    "from sklearn.metrics import accuracy_score, jaccard_score, f1_score\n",
    "\n",
    "# Calculate Accuracy Score\n",
    "SVM_Accuracy_Score = accuracy_score(Y_test, predictions)\n",
    "\n",
    "# Calculate Jaccard Index (Jaccard Similarity Coefficient)\n",
    "SVM_JaccardIndex = jaccard_score(Y_test, predictions)\n",
    "\n",
    "# Calculate F1 Score\n",
    "SVM_F1_Score = f1_score(Y_test, predictions)\n",
    "\n",
    "# Display the metrics\n",
    "print(\"SVM Model Metrics:\")\n",
    "print(f\"Accuracy Score: {SVM_Accuracy_Score:.4f}\")\n",
    "print(f\"Jaccard Index: {SVM_JaccardIndex:.4f}\")\n",
    "print(f\"F1 Score: {SVM_F1_Score:.4f}\")"
   ]
  },
  {
   "cell_type": "code",
   "execution_count": 92,
   "id": "aba503bf-122b-4e43-aba3-2bf7da799cbe",
   "metadata": {},
   "outputs": [
    {
     "name": "stdout",
     "output_type": "stream",
     "text": [
      "                    Accuracy Jaccard Index F1-Score LogLoss\n",
      "Model                                                      \n",
      "KNN                   0.8183        0.4251   0.5966     nan\n",
      "Decision Tree         0.7527        0.3978   0.5691     nan\n",
      "Logistic Regression   0.8366        0.5092   0.6748  0.3811\n",
      "SVM                   0.7221        0.0000   0.0000     nan\n"
     ]
    }
   ],
   "source": [
    "import pandas as pd\n",
    "import numpy as np\n",
    "\n",
    "# Create a dictionary with the metrics for each model\n",
    "metrics_dict = {\n",
    "    \"Model\": [\"KNN\", \"Decision Tree\", \"Logistic Regression\", \"SVM\"],\n",
    "    \"Accuracy\": [KNN_Accuracy_Score, Tree_Accuracy_Score, LR_Accuracy_Score, SVM_Accuracy_Score],\n",
    "    \"Jaccard Index\": [KNN_JaccardIndex, Tree_JaccardIndex, LR_JaccardIndex, SVM_JaccardIndex],\n",
    "    \"F1-Score\": [KNN_F1_Score, Tree_F1_Score, LR_F1_Score, SVM_F1_Score],\n",
    "    \"LogLoss\": [np.nan, np.nan, LR_LogLoss, np.nan]  # LogLoss only for Logistic Regression\n",
    "}\n",
    "\n",
    "# Convert the dictionary to a DataFrame\n",
    "metrics_df = pd.DataFrame(metrics_dict)\n",
    "\n",
    "# Set the 'Model' column as the index\n",
    "metrics_df.set_index('Model', inplace=True)\n",
    "\n",
    "# Format the numeric columns to display 4 decimal places\n",
    "metrics_df = metrics_df.applymap(lambda x: f\"{x:.4f}\" if isinstance(x, (int, float)) else x)\n",
    "\n",
    "# Display the DataFrame\n",
    "print(metrics_df)"
   ]
  },
  {
   "cell_type": "code",
   "execution_count": null,
   "id": "1067ee49-0601-4b0c-8ac2-b77fa1b5261f",
   "metadata": {},
   "outputs": [],
   "source": []
  }
 ],
 "metadata": {
  "kernelspec": {
   "display_name": "Python 3 (ipykernel)",
   "language": "python",
   "name": "python3"
  },
  "language_info": {
   "codemirror_mode": {
    "name": "ipython",
    "version": 3
   },
   "file_extension": ".py",
   "mimetype": "text/x-python",
   "name": "python",
   "nbconvert_exporter": "python",
   "pygments_lexer": "ipython3",
   "version": "3.12.4"
  }
 },
 "nbformat": 4,
 "nbformat_minor": 5
}
